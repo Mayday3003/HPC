{
 "cells": [
  {
   "cell_type": "markdown",
   "metadata": {},
   "source": [
    "# Explicación taller de punteros en C - HPC\n",
    "\n",
    "En este notebook se podrá encontrar una explicación detallada de una serie de ejercicios para complementar el aprendizaje de punteros en C, además del uso de buenas prácticas de programación, la organización de archivos y la creación de Makefiles para una compilación adecuada, esto se realiza como parte del curso de Computación de alto desempeño de la Universidad de Medellín.\n",
    "\n",
    "\n",
    "### Introducción\n",
    "\n",
    "En la actualidad los lenguajes interpretados y de alto nivel facilitan la curva de aprendizaje de la programación, ahora bien, lenguajes como Python, sacrifican eficiencia para asegurar la simplicidad, esto ya que los ar"
   ]
  },
  {
   "cell_type": "markdown",
   "metadata": {},
   "source": [
    "## 8. Ordenamiento con Burbuja \n",
    "\n",
    "El código de este ejercicio en particular, fue desarrollado en una clase de HPC como ejercicio de práctica, el código que se agregó para el ordenamiento de burbuja fue el que el docente Carlos Álvarez tiene publicado en el repositorio de Github para la clase de HPC.\n",
    "\n",
    "*¿Por qué se tomó esta decisión?*\n",
    "\n",
    "El día en la que se realizó la actividad construimos un código diferente, menos eficiente, poco apropiado y no modularizado, pero para este punto en específico se van a comparar los dos códigos y se explicará qué es lo que hace a un código mejor que el otro.\n",
    "\n",
    "**Partes importantes y nuevos aprendizajes**\n",
    "\n",
    "El bubble sort consiste en el ordenamiento de arrays usando la comparación del elemento actual más el elemento siguiente en cada iteración y es uno de los métodos de ordenamiento más ineficientes pero es bastante simple de entender.\n",
    "\n",
    "#### ***Swap***\n",
    "\n",
    "Esta es una función bastante útil, ya que como necesitamos comparar dos números y cambiarlos de lugar en el arreglo, necesitamos \n",
    "\n"
   ]
  }
 ],
 "metadata": {
  "language_info": {
   "name": "python"
  }
 },
 "nbformat": 4,
 "nbformat_minor": 2
}
